{
 "cells": [
  {
   "cell_type": "markdown",
   "metadata": {},
   "source": [
    "## Bresenham algorithm in Python/Cython\n",
    "\n",
    "The code is in Cython.\n",
    "To convert it to pure python, remove *%%cython -a*, *@cython.locals* and *cimport* commands, and replace *cpdef* by *def. Then, it will work fine in Python (but slower)"
   ]
  },
  {
   "cell_type": "code",
   "execution_count": null,
   "metadata": {
    "collapsed": false
   },
   "outputs": [],
   "source": [
    "%load_ext cython"
   ]
  },
  {
   "cell_type": "code",
   "execution_count": null,
   "metadata": {
    "collapsed": false
   },
   "outputs": [],
   "source": [
    "%%cython -a\n",
    "from math import pi\n",
    "\n",
    "import cython\n",
    "from libc.math cimport sin,cos\n",
    "from libc.stdlib cimport abs\n",
    "@cython.locals(x=cython.int,y=cython.int,x2=cython.int,y2=cython.int,\\\n",
    "               w=cython.int,h=cython.int,steep=cython.int,i=cython.int,\\\n",
    "               sx=cython.int,sy=cython.int,d=cython.int,dx=cython.int,dy=cython.int)\n",
    "\n",
    "# bresenham algorithm cropped in the window (0,0,w,h)\n",
    "cpdef line(x,y,x2,y2,w,h):\n",
    "    \n",
    "    steep = 0\n",
    "    dx = abs(x2 - x)\n",
    "    dy = abs(y2 - y)\n",
    "    if (x2 - x) > 0: sx = 1\n",
    "    else: sx = -1\n",
    "    \n",
    "    if (y2 - y) > 0: sy = 1\n",
    "    else: sy = -1\n",
    "\n",
    "    if dy > dx:\n",
    "        steep = 1\n",
    "        x,y = y,x\n",
    "        dx,dy = dy,dx\n",
    "        sx,sy = sy,sx\n",
    "        w,h   = h,w\n",
    "\n",
    "    d = (2 * dy) - dx\n",
    "\n",
    "    i = 0\n",
    "    while x >= 0 and y >= 0 and x < w and y < h and i <= dx:\n",
    "        if steep: print (y,x)\n",
    "        else: print (x,y)\n",
    "\n",
    "        while d >= 0:\n",
    "            y = y + sy\n",
    "            d = d - (2 * dx)\n",
    "        \n",
    "        x += sx\n",
    "        d += 2 * dy\n",
    "        i += 1\n",
    "\n",
    "@cython.locals(x=cython.int,y=cython.int,angle=cython.float,w=cython.int,h=cython.int)\n",
    "\n",
    "def rayon(x,y,angle,w,h):\n",
    "    dx = cos(angle)*(w+h)\n",
    "    dy = sin(angle)*(w+h)\n",
    "    line(x,y,int(x+dx),int(y+dy),w,h)\n"
   ]
  },
  {
   "cell_type": "code",
   "execution_count": 4,
   "metadata": {
    "collapsed": false
   },
   "outputs": [
    {
     "name": "stdout",
     "output_type": "stream",
     "text": [
      "(0, 0)\n",
      "(1, 0)\n",
      "(2, 1)\n",
      "(3, 1)\n",
      "(4, 1)\n",
      "(5, 2)\n",
      "(6, 2)\n",
      "(7, 2)\n",
      "(8, 2)\n",
      "(9, 3)\n",
      "(10, 3)\n"
     ]
    }
   ],
   "source": [
    "line(0,0,10,3,100,100)"
   ]
  },
  {
   "cell_type": "code",
   "execution_count": 5,
   "metadata": {
    "collapsed": false
   },
   "outputs": [
    {
     "name": "stdout",
     "output_type": "stream",
     "text": [
      "(5, 5)\n",
      "(4, 6)\n",
      "(3, 7)\n",
      "(2, 8)\n",
      "(1, 9)\n"
     ]
    }
   ],
   "source": [
    "rayon(5,5,3*pi/4,10,10)"
   ]
  }
 ],
 "metadata": {
  "kernelspec": {
   "display_name": "Python 2",
   "language": "python",
   "name": "python2"
  },
  "language_info": {
   "codemirror_mode": {
    "name": "ipython",
    "version": 2
   },
   "file_extension": ".py",
   "mimetype": "text/x-python",
   "name": "python",
   "nbconvert_exporter": "python",
   "pygments_lexer": "ipython2",
   "version": "2.7.10"
  }
 },
 "nbformat": 4,
 "nbformat_minor": 0
}
