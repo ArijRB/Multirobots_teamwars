{
 "cells": [
  {
   "cell_type": "markdown",
   "metadata": {},
   "source": [
    "### Calling Pygame internal functions with Cython"
   ]
  },
  {
   "cell_type": "markdown",
   "metadata": {},
   "source": [
    "Ce code permet de manipuler les pixels des masques de pygame, et est tres rapide (compile avec cython)\n",
    "\n",
    "il montre qu'on peut appeler la fonction *bitmask_getbit* definie dans pygame/bitmask.h depuis Cython. Cette fonction manipule des structures C et non pas Python, elle est donc rapide. Normalement, cette fonction n'est pas visible depuis Python\n",
    "\n",
    "Pour ce faire, on doit dire a Cython d'inclure des fichiers '.h' de pygame: *bitmask.h* et *mask.h*"
   ]
  },
  {
   "cell_type": "code",
   "execution_count": 1,
   "metadata": {
    "collapsed": false
   },
   "outputs": [],
   "source": [
    "import pygame\n",
    "\n",
    "im = pygame.image.load('../Unused/DataUnused/Square.png')\n",
    "m = pygame.mask.from_surface(im)"
   ]
  },
  {
   "cell_type": "code",
   "execution_count": 2,
   "metadata": {
    "collapsed": false
   },
   "outputs": [],
   "source": [
    "%load_ext cython"
   ]
  },
  {
   "cell_type": "code",
   "execution_count": 10,
   "metadata": {
    "collapsed": false
   },
   "outputs": [],
   "source": [
    "%%cython\n",
    "\n",
    "\"\"\" Includes from pygame internals \"\"\"\n",
    "\n",
    "cdef extern from \"pygame/bitmask.h\":\n",
    "    ctypedef struct bitmask_t:\n",
    "        int w,h\n",
    "        unsigned long int bits[1]\n",
    "\n",
    "    int bitmask_getbit(const bitmask_t *m, int x, int y);\n",
    "\n",
    "cdef extern from \"pygame/mask.h\":\n",
    "    ctypedef struct PyMaskObject:\n",
    "        bitmask_t *mask\n",
    "\n",
    "\"\"\"  -  -  -  -  -  -  -   \"\"\"\n",
    "\n",
    "\n",
    "def f(object mymask,int i,int j):\n",
    "\n",
    "    cdef PyMaskObject* cmask = <PyMaskObject*>mymask\n",
    "    \n",
    "    return bitmask_getbit(cmask.mask,i,j)\n",
    "\n",
    "#try:\n",
    "#    _cython_compiled = cython.compiled\n",
    "#except:\n",
    "#    _cython_compiled = False"
   ]
  },
  {
   "cell_type": "code",
   "execution_count": 9,
   "metadata": {
    "collapsed": false
   },
   "outputs": [
    {
     "name": "stdout",
     "output_type": "stream",
     "text": [
      "value of pixel at x=30,y=30 is  1\n"
     ]
    }
   ],
   "source": [
    "print \"value of pixel at x=30,y=30 is \",f(m,110,110)"
   ]
  },
  {
   "cell_type": "code",
   "execution_count": null,
   "metadata": {
    "collapsed": true
   },
   "outputs": [],
   "source": []
  }
 ],
 "metadata": {
  "kernelspec": {
   "display_name": "Python 2",
   "language": "python",
   "name": "python2"
  },
  "language_info": {
   "codemirror_mode": {
    "name": "ipython",
    "version": 2
   },
   "file_extension": ".py",
   "mimetype": "text/x-python",
   "name": "python",
   "nbconvert_exporter": "python",
   "pygments_lexer": "ipython2",
   "version": "2.7.10"
  }
 },
 "nbformat": 4,
 "nbformat_minor": 0
}
