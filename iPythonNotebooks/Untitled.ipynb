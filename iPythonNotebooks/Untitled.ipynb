{
 "cells": [
  {
   "cell_type": "code",
   "execution_count": 4,
   "metadata": {
    "collapsed": true
   },
   "outputs": [],
   "source": []
  },
  {
   "cell_type": "code",
   "execution_count": 1,
   "metadata": {
    "collapsed": true
   },
   "outputs": [],
   "source": [
    "L = [(224, 128) ,\n",
    "(224, 140) ,\n",
    "(224, 153) ,\n",
    "(224, 166) ,\n",
    "(224, 181) ,\n",
    "(224, 198) ,\n",
    "(224, 219) ,\n",
    "(207, 224) ,\n",
    "(188, 224) ,\n",
    "(172, 224) ,\n",
    "(159, 224) ,\n",
    "(146, 224) ,\n",
    "(133, 224) ,\n",
    "(121, 224) ,\n",
    "(109, 224) ,\n",
    "(96, 224) ,\n",
    "(82, 224) ,\n",
    "(66, 224) ,\n",
    "(47, 224) ,\n",
    "(31, 217) ,\n",
    "(31, 197) ,\n",
    "(31, 180) ,\n",
    "(31, 165) ,\n",
    "(31, 152) ,\n",
    "(31, 139) ,\n",
    "(31, 127) ,\n",
    "(31, 114) ,\n",
    "(31, 102) ,\n",
    "(31, 88) ,\n",
    "(31, 73) ,\n",
    "(31, 55) ,\n",
    "(31, 34) ,\n",
    "(50, 31) ,\n",
    "(69, 31) ,\n",
    "(85, 31) ,\n",
    "(98, 31) ,\n",
    "(111, 31) ,\n",
    "(124, 31) ,\n",
    "(136, 31) ,\n",
    "(149, 31) ,\n",
    "(162, 31) ,\n",
    "(176, 31) ,\n",
    "(192, 31) ,\n",
    "(212, 31) ,\n",
    "(224, 42) ,\n",
    "(224, 62) ,\n",
    "(224, 78) ,\n",
    "(224, 93) ,\n",
    "(224, 106) ,\n",
    "(224, 118)]"
   ]
  },
  {
   "cell_type": "code",
   "execution_count": 5,
   "metadata": {
    "collapsed": false
   },
   "outputs": [],
   "source": [
    "%matplotlib inline\n",
    "import numpy as np\n",
    "import matplotlib.pyplot as plt\n",
    "\n",
    "T = np.zeros((256,256))\n",
    "\n",
    "for (i,j) in L:\n",
    "    T[i,j] = 1\n",
    "\n",
    "plt.imshow(T,cmap='gist_ncar')\n",
    "plt.show()"
   ]
  },
  {
   "cell_type": "code",
   "execution_count": 6,
   "metadata": {
    "collapsed": true
   },
   "outputs": [],
   "source": []
  },
  {
   "cell_type": "code",
   "execution_count": 8,
   "metadata": {
    "collapsed": false
   },
   "outputs": [],
   "source": [
    "    "
   ]
  },
  {
   "cell_type": "code",
   "execution_count": 9,
   "metadata": {
    "collapsed": false
   },
   "outputs": [
    {
     "data": {
      "image/png": "[encoded data removed]",
      "text/plain": [
       "<matplotlib.figure.Figure at 0x10612ec50>"
      ]
     },
     "metadata": {},
     "output_type": "display_data"
    }
   ],
   "source": []
  },
  {
   "cell_type": "code",
   "execution_count": null,
   "metadata": {
    "collapsed": true
   },
   "outputs": [],
   "source": []
  }
 ],
 "metadata": {
  "kernelspec": {
   "display_name": "Python 2",
   "language": "python",
   "name": "python2"
  },
  "language_info": {
   "codemirror_mode": {
    "name": "ipython",
    "version": 2
   },
   "file_extension": ".py",
   "mimetype": "text/x-python",
   "name": "python",
   "nbconvert_exporter": "python",
   "pygments_lexer": "ipython2",
   "version": "2.7.10"
  }
 },
 "nbformat": 4,
 "nbformat_minor": 0
}
