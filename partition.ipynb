{
 "cells": [
  {
   "cell_type": "code",
   "execution_count": 1,
   "metadata": {
    "collapsed": true
   },
   "outputs": [],
   "source": [
    "%load_ext cython"
   ]
  },
  {
   "cell_type": "code",
   "execution_count": 3,
   "metadata": {
    "collapsed": true
   },
   "outputs": [],
   "source": [
    "import numpy as np"
   ]
  },
  {
   "cell_type": "code",
   "execution_count": 7,
   "metadata": {
    "collapsed": false
   },
   "outputs": [],
   "source": [
    "class Partition:\n",
    "    ''' three array:\n",
    "    - a 2D array of id(object),next,previous\n",
    "    - a dictionnary\n",
    "    '''\n",
    "    def __init__(self,nbins):\n",
    "        assert nbins > 0\n",
    "        self.nbins  = nbins\n",
    "        self.id2obj = {}\n",
    "\n",
    "        self.linkedlist = np.empty(shape=(nbins,3),dtype=np.int64)\n",
    "        self.linkedlist[0:nbins,:]=-1\n",
    "        self.linkedlist_size = nbins\n",
    "        self.lastelement = nbins-1\n",
    "\n",
    "    def _unsafe_add_object(self,ibin,o):\n",
    "        i = id(o)\n",
    "        self.id2obj[i]=o\n",
    "\n",
    "        self.lastelement +=1\n",
    "        if self.lastelement >= self.linkedlist_size:\n",
    "            self.linkedlist = np.vstack( (self.linkedlist , np.empty(shape=(self.linkedlist_size,3),dtype=np.int64) ))\n",
    "            self.linkedlist_size *=2\n",
    "        self.linkedlist[self.lastelement]\n",
    "            \n",
    "p = Partition(10,10)\n"
   ]
  },
  {
   "cell_type": "code",
   "execution_count": null,
   "metadata": {
    "collapsed": true
   },
   "outputs": [],
   "source": []
  }
 ],
 "metadata": {
  "kernelspec": {
   "display_name": "Python 2",
   "language": "python",
   "name": "python2"
  },
  "language_info": {
   "codemirror_mode": {
    "name": "ipython",
    "version": 2
   },
   "file_extension": ".py",
   "mimetype": "text/x-python",
   "name": "python",
   "nbconvert_exporter": "python",
   "pygments_lexer": "ipython2",
   "version": "2.7.11"
  }
 },
 "nbformat": 4,
 "nbformat_minor": 0
}
