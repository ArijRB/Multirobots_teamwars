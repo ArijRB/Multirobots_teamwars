{
 "cells": [
  {
   "cell_type": "markdown",
   "metadata": {},
   "source": [
    "### Calling Pygame internal functions with Cython"
   ]
  },
  {
   "cell_type": "markdown",
   "metadata": {},
   "source": [
    "Ce code permet de manipuler les pixels des masques de pygame, et est tres rapide (compile avec cython)\n",
    "\n",
    "il montre qu'on peut appeler la fonction *bitmask_getbit* sur des masques dans pygame\n",
    "\n",
    "Pour ce faire, on doit dire a Cython d'inclure des fichiers '.h' de pygame: *bitmask.h* et *mask.h*"
   ]
  },
  {
   "cell_type": "code",
   "execution_count": 1,
   "metadata": {
    "collapsed": true
   },
   "outputs": [],
   "source": [
    "import pygame\n",
    "\n",
    "im = pygame.image.load('data/dante_0_0.png')\n",
    "m = pygame.mask.from_surface(im)"
   ]
  },
  {
   "cell_type": "code",
   "execution_count": 2,
   "metadata": {
    "collapsed": false
   },
   "outputs": [],
   "source": [
    "%load_ext cython"
   ]
  },
  {
   "cell_type": "code",
   "execution_count": null,
   "metadata": {
    "collapsed": false
   },
   "outputs": [],
   "source": [
    "%%cython -a\n",
    "\n",
    "\"\"\" Includes from pygame internals \"\"\"\n",
    "\n",
    "cdef extern from \"pygame/bitmask.h\":\n",
    "    ctypedef struct bitmask_t:\n",
    "        int w,h\n",
    "        unsigned long int bits[1]\n",
    "\n",
    "    int bitmask_getbit(const bitmask_t *m, int x, int y);\n",
    "\n",
    "cdef extern from \"pygame/mask.h\":\n",
    "    ctypedef struct PyMaskObject:\n",
    "        bitmask_t *mask\n",
    "\n",
    "\"\"\"  -  -  -  -  -  -  -   \"\"\"\n",
    "\n",
    "def f(mask,i,j):\n",
    "\n",
    "    cdef PyMaskObject* pymask = <PyMaskObject*> mask\n",
    "    cdef bitmask_t*     b = pymask.mask\n",
    "\n",
    "    print \"width of the mask = \",pymask.mask.w\n",
    "    \n",
    "    c = bitmask_getbit(b,i,j) # Ultra fast call if b,i,j are of the right type\n",
    "    print \"value of pixel at \",i,\",\",j,\" = \",c\n"
   ]
  },
  {
   "cell_type": "code",
   "execution_count": 4,
   "metadata": {
    "collapsed": false
   },
   "outputs": [
    {
     "name": "stdout",
     "output_type": "stream",
     "text": [
      "width of the mask =  192\n",
      "value of pixel at  30 , 30  =  1\n"
     ]
    }
   ],
   "source": [
    "f(m,30,30)"
   ]
  }
 ],
 "metadata": {
  "kernelspec": {
   "display_name": "Python 2",
   "language": "python",
   "name": "python2"
  },
  "language_info": {
   "codemirror_mode": {
    "name": "ipython",
    "version": 2
   },
   "file_extension": ".py",
   "mimetype": "text/x-python",
   "name": "python",
   "nbconvert_exporter": "python",
   "pygments_lexer": "ipython2",
   "version": "2.7.10"
  }
 },
 "nbformat": 4,
 "nbformat_minor": 0
}
